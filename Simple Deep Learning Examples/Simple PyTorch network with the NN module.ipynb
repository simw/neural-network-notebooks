{
 "cells": [
  {
   "cell_type": "markdown",
   "id": "79cf50a0-a9d1-4187-9597-b7e648f07ab2",
   "metadata": {},
   "source": [
    "# Building a simple neural network using the nn module in PyTorch"
   ]
  },
  {
   "cell_type": "markdown",
   "id": "45ce3760-1061-4b8d-a531-4755a2b0406f",
   "metadata": {},
   "source": [
    "This is a similar use case to the torch quick start at (https://pytorch.org/tutorials/beginner/basics/quickstart_tutorial.html)."
   ]
  },
  {
   "cell_type": "markdown",
   "id": "a6476f77-bee0-4306-8bbf-f2e9f3c8ec84",
   "metadata": {},
   "source": [
    "### Globals"
   ]
  },
  {
   "cell_type": "code",
   "execution_count": 1,
   "id": "dce609a3-61e9-44a9-8d69-5fd0d2ac23f0",
   "metadata": {},
   "outputs": [],
   "source": [
    "import math\n",
    "import time\n",
    "\n",
    "import matplotlib.pyplot as plt\n",
    "import torch\n",
    "from torch import nn\n",
    "\n",
    "TORCH_DEVICE = (\n",
    "    \"cuda\" if torch.cuda.is_available()\n",
    "    else \"mps\" if torch.backends.mps.is_available()\n",
    "    else \"cpu\"\n",
    ")"
   ]
  },
  {
   "cell_type": "markdown",
   "id": "25917a30-8da7-48b1-bd39-73c8c7c9adb8",
   "metadata": {},
   "source": [
    "### Loading data"
   ]
  },
  {
   "cell_type": "code",
   "execution_count": 2,
   "id": "69193d56-d0b3-454c-a60e-9f5987076392",
   "metadata": {},
   "outputs": [
    {
     "name": "stdout",
     "output_type": "stream",
     "text": [
      "Shape of inputs (aka 'X') is torch.Size([64, 1, 28, 28])\n",
      "Shape of targets (aka 'y') is torch.Size([64])\n"
     ]
    },
    {
     "data": {
      "image/png": "[encoded data removed]",
      "text/plain": [
       "<Figure size 640x480 with 1 Axes>"
      ]
     },
     "metadata": {},
     "output_type": "display_data"
    }
   ],
   "source": [
    "from torch.utils import data\n",
    "from torchvision import datasets\n",
    "from torchvision.transforms import ToTensor\n",
    "\n",
    "\n",
    "def get_dataloader(batch_size: int, train: bool):\n",
    "    mnist_dataset = datasets.FashionMNIST(\n",
    "        root=\"data\",\n",
    "        train=train,\n",
    "        download=True,\n",
    "        transform=ToTensor(),\n",
    "    )\n",
    "\n",
    "    return data.DataLoader(mnist_dataset, batch_size=batch_size)\n",
    "\n",
    "\n",
    "training_dataloader = get_dataloader(batch_size=64, train=True)\n",
    "testing_dataloader = get_dataloader(batch_size=64, train=False)\n",
    "\n",
    "for inputs, targets in training_dataloader:\n",
    "    print(f\"Shape of inputs (aka 'X') is {inputs.shape}\")\n",
    "    print(f\"Shape of targets (aka 'y') is {targets.shape}\")\n",
    "    break\n",
    "\n",
    "fig, axs = plt.subplots()\n",
    "axs.hist(inputs.ravel(), bins=50)\n",
    "axs.set_title(\"Distribution of input values for first example\")\n",
    "plt.show()"
   ]
  },
  {
   "cell_type": "markdown",
   "id": "915284d2-d87c-4101-a789-73dccf5fbb6e",
   "metadata": {},
   "source": [
    "### Building the network"
   ]
  },
  {
   "cell_type": "code",
   "execution_count": 3,
   "id": "fa71456d-ebaf-470b-be39-a284ab42aaab",
   "metadata": {},
   "outputs": [],
   "source": [
    "pic_height = pic_width = 28\n",
    "dim_hidden = 512\n",
    "dim_out = 10\n",
    "\n",
    "class SimpleNetwork(nn.Module):\n",
    "    def __init__(self):\n",
    "        super().__init__()\n",
    "        self.stack = nn.Sequential(\n",
    "            nn.Flatten(),\n",
    "            nn.Linear(pic_height * pic_width, dim_hidden),\n",
    "            nn.ReLU(),\n",
    "            nn.Linear(dim_hidden, dim_hidden),\n",
    "            nn.ReLU(),\n",
    "            nn.Linear(dim_hidden, dim_out),\n",
    "        )\n",
    "\n",
    "    def forward(self, x):\n",
    "        return self.stack(x)"
   ]
  },
  {
   "cell_type": "code",
   "execution_count": 4,
   "id": "69c12ada-4eab-467f-8813-56862a155b3e",
   "metadata": {},
   "outputs": [
    {
     "name": "stdout",
     "output_type": "stream",
     "text": [
      "SimpleNetwork(\n",
      "  (stack): Sequential(\n",
      "    (0): Flatten(start_dim=1, end_dim=-1)\n",
      "    (1): Linear(in_features=784, out_features=512, bias=True)\n",
      "    (2): ReLU()\n",
      "    (3): Linear(in_features=512, out_features=512, bias=True)\n",
      "    (4): ReLU()\n",
      "    (5): Linear(in_features=512, out_features=10, bias=True)\n",
      "  )\n",
      ")\n",
      "sample_inputs.shape=torch.Size([100, 1, 28, 28]), result.shape=torch.Size([100, 10])\n"
     ]
    }
   ],
   "source": [
    "# Testing / demonstrating the model\n",
    "sample_model = SimpleNetwork().to(TORCH_DEVICE)\n",
    "print(sample_model)\n",
    "\n",
    "sample_batch_size = 100\n",
    "\n",
    "image_shape = (1, pic_height, pic_width)\n",
    "dim_in = math.prod(image_shape)\n",
    "dim_hidden = 24\n",
    "\n",
    "sample_rand_gen = torch.Generator(device=TORCH_DEVICE).manual_seed(12345678)\n",
    "sample_inputs = torch.normal(mean=0, std=1, size=(sample_batch_size, 1, pic_height, pic_width), generator=sample_rand_gen, device=TORCH_DEVICE)\n",
    "result = sample_model(sample_inputs)\n",
    "print(f\"{sample_inputs.shape=}, {result.shape=}\")\n",
    "assert result.shape == (sample_batch_size, dim_out)"
   ]
  },
  {
   "cell_type": "markdown",
   "id": "04031268-7ca2-4b20-a9d9-b0acf8210b9a",
   "metadata": {},
   "source": [
    "### Training the network"
   ]
  },
  {
   "cell_type": "code",
   "execution_count": 5,
   "id": "f433bca1-ee38-4f7b-8070-51c3f15e80d7",
   "metadata": {},
   "outputs": [],
   "source": [
    "loss_fn = nn.CrossEntropyLoss()"
   ]
  },
  {
   "cell_type": "code",
   "execution_count": 6,
   "id": "b8186ffc-09a4-4558-b668-c1a8481de5da",
   "metadata": {},
   "outputs": [],
   "source": [
    "def test(dataloader, model, loss_fn):\n",
    "    all_targets = []\n",
    "    all_predictions = []\n",
    "    all_losses = []\n",
    "    with torch.no_grad():\n",
    "        for inputs, targets in dataloader:\n",
    "            inputs = inputs.to(TORCH_DEVICE)\n",
    "            targets = targets.to(TORCH_DEVICE)\n",
    "            predictions = model(inputs)\n",
    "            loss = loss_fn(predictions, targets)\n",
    "            all_predictions.append(predictions.argmax(dim=1))\n",
    "            all_targets.append(targets)\n",
    "            all_losses.append(loss)\n",
    "\n",
    "    all_predictions = torch.cat(all_predictions)\n",
    "    all_targets = torch.cat(all_targets)\n",
    "\n",
    "    return all_targets, all_predictions, all_losses"
   ]
  },
  {
   "cell_type": "code",
   "execution_count": 7,
   "id": "1489be4e-ce1f-4ff5-a4f1-566815cdcfab",
   "metadata": {},
   "outputs": [
    {
     "name": "stdout",
     "output_type": "stream",
     "text": [
      "Epoch 1\n",
      "-------------------------------\n",
      "loss: 2.290162  [    0 / 60000]\n",
      "loss: 2.279153  [ 6400 / 60000]\n",
      "loss: 2.269777  [12800 / 60000]\n",
      "loss: 2.292797  [19200 / 60000]\n",
      "loss: 2.249566  [25600 / 60000]\n",
      "loss: 2.280086  [32000 / 60000]\n",
      "loss: 2.273032  [38400 / 60000]\n",
      "loss: 2.254985  [44800 / 60000]\n",
      "loss: 2.234167  [51200 / 60000]\n",
      "loss: 2.286204  [57600 / 60000]\n",
      "Test error: accuracy = 26.6%, average loss = 2.221429\n",
      "Epoch elapsed time = 4.1 seconds\n",
      "\n",
      "Epoch 2\n",
      "-------------------------------\n",
      "loss: 2.200446  [    0 / 60000]\n",
      "loss: 2.190835  [ 6400 / 60000]\n",
      "loss: 2.167783  [12800 / 60000]\n",
      "loss: 2.210278  [19200 / 60000]\n",
      "loss: 2.126492  [25600 / 60000]\n",
      "loss: 2.151556  [32000 / 60000]\n",
      "loss: 2.154945  [38400 / 60000]\n",
      "loss: 2.110510  [44800 / 60000]\n",
      "loss: 2.091668  [51200 / 60000]\n",
      "loss: 2.137179  [57600 / 60000]\n",
      "Test error: accuracy = 35.7%, average loss = 2.061394\n",
      "Epoch elapsed time = 3.4 seconds\n",
      "\n",
      "Epoch 3\n",
      "-------------------------------\n",
      "loss: 2.042301  [    0 / 60000]\n",
      "loss: 2.035684  [ 6400 / 60000]\n",
      "loss: 1.968244  [12800 / 60000]\n",
      "loss: 2.040419  [19200 / 60000]\n",
      "loss: 1.915169  [25600 / 60000]\n",
      "loss: 1.905512  [32000 / 60000]\n",
      "loss: 1.944605  [38400 / 60000]\n",
      "loss: 1.843776  [44800 / 60000]\n",
      "loss: 1.844977  [51200 / 60000]\n",
      "loss: 1.873916  [57600 / 60000]\n",
      "Test error: accuracy = 49.9%, average loss = 1.795483\n",
      "Epoch elapsed time = 3.4 seconds\n",
      "\n",
      "Epoch 4\n",
      "-------------------------------\n",
      "loss: 1.787569  [    0 / 60000]\n",
      "loss: 1.790456  [ 6400 / 60000]\n",
      "loss: 1.653697  [12800 / 60000]\n",
      "loss: 1.770104  [19200 / 60000]\n",
      "loss: 1.632450  [25600 / 60000]\n",
      "loss: 1.591340  [32000 / 60000]\n",
      "loss: 1.659314  [38400 / 60000]\n",
      "loss: 1.530963  [44800 / 60000]\n",
      "loss: 1.570445  [51200 / 60000]\n",
      "loss: 1.564877  [57600 / 60000]\n",
      "Test error: accuracy = 53.3%, average loss = 1.512774\n",
      "Epoch elapsed time = 3.4 seconds\n",
      "\n",
      "Epoch 5\n",
      "-------------------------------\n",
      "loss: 1.529654  [    0 / 60000]\n",
      "loss: 1.537250  [ 6400 / 60000]\n",
      "loss: 1.367632  [12800 / 60000]\n",
      "loss: 1.515642  [19200 / 60000]\n",
      "loss: 1.380783  [25600 / 60000]\n",
      "loss: 1.356874  [32000 / 60000]\n",
      "loss: 1.413141  [38400 / 60000]\n",
      "loss: 1.308116  [44800 / 60000]\n",
      "loss: 1.355595  [51200 / 60000]\n",
      "loss: 1.327063  [57600 / 60000]\n",
      "Test error: accuracy = 59.5%, average loss = 1.304887\n",
      "Epoch elapsed time = 3.4 seconds\n",
      "\n"
     ]
    }
   ],
   "source": [
    "model = SimpleNetwork().to(TORCH_DEVICE)\n",
    "\n",
    "learning_rate = 1e-3\n",
    "epochs = 5\n",
    "\n",
    "optimizer = torch.optim.SGD(model.parameters(), lr=learning_rate)\n",
    "\n",
    "for t in range(epochs):\n",
    "    print(f\"Epoch {t+1}\\n-------------------------------\")\n",
    "    epoch_start = time.monotonic()\n",
    "    total_length = len(training_dataloader.dataset)\n",
    "    count = 0\n",
    "    model.train()\n",
    "    for batch, (inputs, targets) in enumerate(training_dataloader):\n",
    "        inputs = inputs.to(TORCH_DEVICE)\n",
    "        targets = targets.to(TORCH_DEVICE)\n",
    "        predictions = model(inputs)\n",
    "        loss = loss_fn(predictions, targets)\n",
    "\n",
    "        if batch % 100 == 0 or count >= total_length:\n",
    "            print(f\"loss: {loss.item():>7f}  [{count:>5d} / {total_length:>5d}]\")\n",
    "\n",
    "        loss.backward()\n",
    "        optimizer.step()\n",
    "        optimizer.zero_grad()\n",
    "\n",
    "        count += len(inputs)\n",
    "    \n",
    "    epoch_end = time.monotonic()\n",
    "    test_targets, test_preds, test_losses = test(testing_dataloader, model, loss_fn)\n",
    "    correct = (test_preds.eq(test_targets).sum() / len(test_preds)).item()\n",
    "    losses = torch.tensor(test_losses)\n",
    "    print(f\"Test error: accuracy = {100 * correct:>0.1f}%, average loss = {losses.mean().item():>8f}\")\n",
    "    print(f\"Epoch elapsed time = {epoch_end - epoch_start:.1f} seconds\")\n",
    "    print(\"\")"
   ]
  },
  {
   "cell_type": "code",
   "execution_count": null,
   "id": "1a1f05d9-5bc8-4e2b-a975-70803780e1e0",
   "metadata": {},
   "outputs": [],
   "source": []
  }
 ],
 "metadata": {
  "kernelspec": {
   "display_name": "torch-3.11",
   "language": "python",
   "name": "torch-3.11"
  },
  "language_info": {
   "codemirror_mode": {
    "name": "ipython",
    "version": 3
   },
   "file_extension": ".py",
   "mimetype": "text/x-python",
   "name": "python",
   "nbconvert_exporter": "python",
   "pygments_lexer": "ipython3",
   "version": "3.11.5"
  }
 },
 "nbformat": 4,
 "nbformat_minor": 5
}
