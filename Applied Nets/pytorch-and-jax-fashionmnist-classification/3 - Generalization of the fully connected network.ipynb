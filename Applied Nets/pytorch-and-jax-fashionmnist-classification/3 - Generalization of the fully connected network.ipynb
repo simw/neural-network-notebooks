{
 "cells": [
  {
   "cell_type": "markdown",
   "id": "0d0d6b03-5951-4421-b952-935b89cd82ce",
   "metadata": {},
   "source": [
    "# Exploring whether the feed-forward fully-connected network generalizes"
   ]
  },
  {
   "cell_type": "markdown",
   "id": "48e83510-b875-4b12-bc6d-32e796dfdd83",
   "metadata": {},
   "source": [
    "## Summary"
   ]
  },
  {
   "cell_type": "markdown",
   "id": "dff63840-0999-4e79-8376-81d2b0d2647b",
   "metadata": {},
   "source": [
    "- This notebook explores whether the fully-connected feed-forward network trained on FashionMNIST can generalize to additional transformations not in the input data\n",
    "- It can't. While in theory a fully-connected network can learn symmetries (eg translation, scale), it needs to see these in the input data. The raw FashionMNIST data does not have these symmetries.\n",
    "- By manipulating the training data, it is possible to add the symmetries.\n",
    "- However, it could be more efficient to embed these symmetries directly in the network, by reducing the connections, and by using parameter sharing (ie the same weights for multiple units). This is left to a later notebook."
   ]
  },
  {
   "cell_type": "markdown",
   "id": "69813093-0643-48bd-afcb-eed40614fb57",
   "metadata": {},
   "source": [
    "## Code"
   ]
  },
  {
   "cell_type": "code",
   "execution_count": 1,
   "id": "c6167f55-d34f-4f84-bf37-0c429bf606cb",
   "metadata": {},
   "outputs": [],
   "source": [
    "import logging\n",
    "import math\n",
    "import time\n",
    "from dataclasses import dataclass, field\n",
    "\n",
    "import matplotlib.pyplot as plt\n",
    "import torch\n",
    "from torch import nn\n",
    "\n",
    "\n",
    "logging.basicConfig(\n",
    "    level=logging.INFO,\n",
    "    format=\"%(asctime)s - %(levelname)s: %(message)s\"\n",
    ")\n",
    "logger = logging.getLogger(__name__)\n",
    "\n",
    "\n",
    "TORCH_DEVICE = (\n",
    "    \"cuda\" if torch.cuda.is_available()\n",
    "    else \"mps\" if torch.backends.mps.is_available()\n",
    "    else \"cpu\"\n",
    ")\n",
    "\n",
    "\n",
    "def set_seed(seed: int) -> None:\n",
    "    torch.manual_seed(seed)\n",
    "    torch.cuda.manual_seed(seed)\n",
    "    torch.cuda.manual_seed_all(seed)\n",
    "    torch.backends.cudnn.benchmark = False\n",
    "    torch.backends.cudnn.deterministic = True"
   ]
  },
  {
   "cell_type": "code",
   "execution_count": 2,
   "id": "d006a32c-2627-4a04-953c-37c9b7b8d304",
   "metadata": {},
   "outputs": [],
   "source": [
    "from torch.utils import data\n",
    "from torchvision import datasets\n",
    "from torchvision.transforms import v2\n",
    "\n",
    "\n",
    "def get_dataloader(batch_size: int, train: bool, transform=None):\n",
    "    if transform is None:\n",
    "        transform = v2.ToTensor()\n",
    "    else:\n",
    "        transform = v2.Compose([transform, v2.ToTensor()])\n",
    "    mnist_dataset = datasets.FashionMNIST(\n",
    "        root=\"data\",\n",
    "        train=train,\n",
    "        download=True,\n",
    "        transform=transform,\n",
    "    )\n",
    "\n",
    "    return data.DataLoader(mnist_dataset, batch_size=batch_size)"
   ]
  },
  {
   "cell_type": "code",
   "execution_count": 3,
   "id": "35c757a0-007a-465b-bd09-5219baad9e85",
   "metadata": {},
   "outputs": [],
   "source": [
    "@dataclass\n",
    "class LossRecord:\n",
    "    name: str\n",
    "    accuracy: list[float] = field(default_factory=list)\n",
    "    loss: list[float] = field(default_factory=list)\n",
    "\n",
    "    def append(self, accuracy, loss) -> None:\n",
    "        self.accuracy.append(accuracy)\n",
    "        self.loss.append(loss)\n",
    "\n",
    "\n",
    "class Optim:\n",
    "    \"\"\"A wrapper to run the optimization with some logging.\"\"\"\n",
    "    def __init__(self, model, loss_fn, training_data, testing_data):\n",
    "        self._model = model\n",
    "        self._loss_fn = loss_fn\n",
    "        self._training_data = training_data\n",
    "        self._testing_data = testing_data\n",
    "\n",
    "        self.log_training: int | None = None\n",
    "        self.log_epochs: int | None = 1\n",
    "\n",
    "    def _train_one_epoch(self, optimizer):\n",
    "        self._model.train()\n",
    "        num_batches = len(self._training_data)\n",
    "        # num_rows = len(dataloader.dataset)\n",
    "        log_every = None if self.log_training is None else num_batches / self.log_training\n",
    "        for i_batch, (inputs, targets) in enumerate(self._training_data):\n",
    "            inputs = inputs.to(TORCH_DEVICE)\n",
    "            targets = targets.to(TORCH_DEVICE)\n",
    "            predictions = self._model(inputs)\n",
    "            batch_loss = self._loss_fn(predictions, targets)\n",
    "\n",
    "            if log_every is not None and (log_every == num_batches or i_batch % log_every < 1 or i_batch == num_batches - 1):\n",
    "                msg = f\"Batch {i_batch} / {num_batches}: loss={batch_loss.item():>7f}\"\n",
    "                logger.info(msg)\n",
    "            \n",
    "            batch_loss.backward()\n",
    "            optimizer.step()\n",
    "            optimizer.zero_grad()\n",
    "\n",
    "    def test(self, testing_data_override = None):\n",
    "        testing_data = testing_data_override if testing_data_override is not None else self._testing_data\n",
    "        \n",
    "        self._model.eval()\n",
    "        total_loss = 0.\n",
    "        total_correct = 0.\n",
    "        n_rows = 0\n",
    "        n_batches = 0\n",
    "        with torch.no_grad():\n",
    "            for inputs, targets in testing_data:\n",
    "                inputs = inputs.to(TORCH_DEVICE)\n",
    "                targets = targets.to(TORCH_DEVICE)\n",
    "                predictions = model(inputs)\n",
    "                total_correct += (predictions.argmax(dim=1) == targets).sum().item()\n",
    "                total_loss += self._loss_fn(predictions, targets).item()\n",
    "                n_rows += len(targets)\n",
    "                n_batches += 1\n",
    "\n",
    "        accuracy = total_correct / n_rows\n",
    "        average_loss = total_loss / n_batches\n",
    "\n",
    "        return accuracy, average_loss\n",
    "                \n",
    "\n",
    "    def run(self, num_epochs, learning_rate, name) -> LossRecord:\n",
    "        optimizer = torch.optim.SGD(self._model.parameters(), lr=learning_rate)\n",
    "        record = LossRecord(name)\n",
    "        accuracy, loss = self.test()\n",
    "        record.append(accuracy, loss)\n",
    "        start_time = time.monotonic()\n",
    "        log_every = None if self.log_epochs is None else num_epochs / self.log_epochs\n",
    "        for epoch in range(num_epochs):\n",
    "            epoch_start = time.monotonic()\n",
    "            self._train_one_epoch(optimizer)\n",
    "            epoch_end = time.monotonic()\n",
    "            accuracy, loss = self.test()\n",
    "            record.append(accuracy, loss)\n",
    "            if log_every is not None and (log_every == num_epochs or epoch % log_every < 1 or epoch == num_epochs - 1):\n",
    "                msg = f\"Epoch {epoch + 1}: accuracy {100 * accuracy:>0.1f}%, loss {loss:>8f} \"\n",
    "                msg += f\"(time {epoch_end - epoch_start:.1f}s)\"\n",
    "                logger.info(msg)\n",
    "        end_time = time.monotonic()\n",
    "        logger.info(f\"Finished {num_epochs} epochs for {name} in {end_time - start_time:.1f}s\")\n",
    "        return record"
   ]
  },
  {
   "cell_type": "code",
   "execution_count": 4,
   "id": "12c5fb22-7de4-4298-92e7-3d0586751ec5",
   "metadata": {},
   "outputs": [],
   "source": [
    "class SimpleNetwork(nn.Module):\n",
    "    def __init__(self, dim_in, dim_hidden, dim_out):\n",
    "        super().__init__()\n",
    "        self.stack = nn.Sequential(\n",
    "            nn.Flatten(),\n",
    "            nn.Linear(dim_in, dim_hidden, bias=False),\n",
    "            nn.ReLU(),\n",
    "            nn.Linear(dim_hidden, dim_hidden, bias=False),\n",
    "            nn.ReLU(),\n",
    "            nn.Linear(dim_hidden, dim_out, bias=False),\n",
    "        )\n",
    "\n",
    "    def forward(self, x):\n",
    "        return self.stack(x)"
   ]
  },
  {
   "cell_type": "markdown",
   "id": "947c3c32-c76e-42c1-91cc-2843b8be5cfa",
   "metadata": {},
   "source": [
    "## The regular model"
   ]
  },
  {
   "cell_type": "code",
   "execution_count": 5,
   "id": "2289fa41-dcf9-4e64-a795-0638e99d6b9d",
   "metadata": {},
   "outputs": [
    {
     "name": "stderr",
     "output_type": "stream",
     "text": [
      "/Users/simon/Code/Projects/github/public/neural-network-notebooks/Applied Nets/pytorch-and-jax-fashionmnist-classification/.venv/lib/python3.12/site-packages/torchvision/transforms/v2/_deprecated.py:42: UserWarning: The transform `ToTensor()` is deprecated and will be removed in a future release. Instead, please use `v2.Compose([v2.ToImage(), v2.ToDtype(torch.float32, scale=True)])`.Output is equivalent up to float precision.\n",
      "  warnings.warn(\n",
      "2025-01-20 16:04:44,272 - INFO: Epoch 1: accuracy 77.1%, loss 0.632176 (time 3.2s)\n",
      "2025-01-20 16:04:47,337 - INFO: Epoch 2: accuracy 80.3%, loss 0.533694 (time 2.6s)\n",
      "2025-01-20 16:04:50,211 - INFO: Epoch 3: accuracy 81.8%, loss 0.493119 (time 2.4s)\n",
      "2025-01-20 16:04:53,239 - INFO: Epoch 4: accuracy 82.9%, loss 0.460780 (time 2.5s)\n",
      "2025-01-20 16:04:56,232 - INFO: Epoch 5: accuracy 83.8%, loss 0.437845 (time 2.6s)\n",
      "2025-01-20 16:04:59,121 - INFO: Epoch 6: accuracy 84.3%, loss 0.423843 (time 2.5s)\n",
      "2025-01-20 16:05:02,116 - INFO: Epoch 7: accuracy 84.7%, loss 0.410176 (time 2.5s)\n",
      "2025-01-20 16:05:05,082 - INFO: Epoch 8: accuracy 85.0%, loss 0.406648 (time 2.5s)\n",
      "2025-01-20 16:05:08,037 - INFO: Epoch 9: accuracy 85.7%, loss 0.390680 (time 2.5s)\n",
      "2025-01-20 16:05:11,100 - INFO: Epoch 10: accuracy 86.4%, loss 0.377938 (time 2.6s)\n",
      "2025-01-20 16:05:11,101 - INFO: Finished 10 epochs for Test in 30.5s\n"
     ]
    }
   ],
   "source": [
    "dim_hidden = 512\n",
    "dim_out = 10\n",
    "loss_fn = torch.nn.CrossEntropyLoss()\n",
    "learning_rate = 0.05\n",
    "\n",
    "training_data = get_dataloader(batch_size=64, train=True)\n",
    "testing_data = get_dataloader(batch_size=64, train=False)\n",
    "for inputs, targets in training_data:\n",
    "    _, pic_channels, pic_height, pic_width = inputs.shape\n",
    "    break\n",
    "\n",
    "set_seed(12345678)\n",
    "model = SimpleNetwork(pic_channels * pic_height * pic_width, dim_hidden, dim_out).to(TORCH_DEVICE)\n",
    "optim = Optim(model, loss_fn, training_data, testing_data)\n",
    "optim.log_epochs = 1\n",
    "record = optim.run(num_epochs=10, learning_rate=learning_rate, name=\"Test\")"
   ]
  },
  {
   "cell_type": "code",
   "execution_count": 6,
   "id": "c177317b-81a7-44bf-b625-a006163ffd82",
   "metadata": {},
   "outputs": [
    {
     "name": "stdout",
     "output_type": "stream",
     "text": [
      "Altering testing data changes accuracy 0.8637 -> 0.367\n",
      "Altering testing data changes loss 0.37793807391148465 -> 2.1588106793203172\n"
     ]
    }
   ],
   "source": [
    "zoom_out = v2.Compose([\n",
    "    v2.RandomZoomOut(fill=0, side_range=(1.25, 1.5), p=1),\n",
    "    v2.Resize((pic_height, pic_width), )\n",
    "])\n",
    "altered_testing_data = get_dataloader(batch_size=64, train=False, transform=zoom_out)\n",
    "\n",
    "altered = optim.test(altered_testing_data)\n",
    "regular = optim.test()\n",
    "\n",
    "print(f\"Altering testing data changes accuracy {regular[0]} -> {altered[0]}\")\n",
    "print(f\"Altering testing data changes loss {regular[1]} -> {altered[1]}\")"
   ]
  },
  {
   "cell_type": "code",
   "execution_count": 7,
   "id": "3f3546a4-81f4-403c-af42-fbd4b52a0aee",
   "metadata": {},
   "outputs": [
    {
     "data": {
      "image/png": "[encoded data removed]",
      "text/plain": [
       "<Figure size 800x400 with 2 Axes>"
      ]
     },
     "metadata": {},
     "output_type": "display_data"
    }
   ],
   "source": [
    "fig, axs = plt.subplots(1, 2, figsize=(8, 4))\n",
    "\n",
    "for inputs, targets in testing_data:\n",
    "    \n",
    "    axs[0].imshow(inputs[0, 0], cmap=\"gray\")\n",
    "\n",
    "    img = zoom_out(inputs[0])\n",
    "    axs[1].imshow(img[0], cmap=\"gray\")\n",
    "    break"
   ]
  },
  {
   "cell_type": "markdown",
   "id": "0c37d82e-7ac4-4d81-9311-827ea15ba79f",
   "metadata": {},
   "source": [
    "## Training with transformations"
   ]
  },
  {
   "cell_type": "code",
   "execution_count": 8,
   "id": "c4e02e08-7f69-414a-8baa-f12327ea4a81",
   "metadata": {},
   "outputs": [],
   "source": [
    "training_zoom_out = v2.Compose([\n",
    "    v2.RandomZoomOut(fill=0, side_range=(1., 1.8), p=1),\n",
    "    v2.Resize((pic_height, pic_width), )\n",
    "])"
   ]
  },
  {
   "cell_type": "code",
   "execution_count": 9,
   "id": "17d42a5f-2c98-41e5-a3fd-b95d0e36b9c0",
   "metadata": {},
   "outputs": [
    {
     "name": "stderr",
     "output_type": "stream",
     "text": [
      "2025-01-20 16:05:18,573 - INFO: Epoch 1: accuracy 66.2%, loss 0.849006 (time 5.1s)\n",
      "2025-01-20 16:05:24,280 - INFO: Epoch 2: accuracy 72.9%, loss 0.709323 (time 5.3s)\n",
      "2025-01-20 16:05:29,767 - INFO: Epoch 3: accuracy 76.2%, loss 0.636296 (time 5.1s)\n",
      "2025-01-20 16:05:35,217 - INFO: Epoch 4: accuracy 77.6%, loss 0.591320 (time 5.0s)\n",
      "2025-01-20 16:05:40,955 - INFO: Epoch 5: accuracy 79.2%, loss 0.554916 (time 5.3s)\n",
      "2025-01-20 16:05:46,460 - INFO: Epoch 6: accuracy 79.1%, loss 0.566624 (time 5.1s)\n",
      "2025-01-20 16:05:51,918 - INFO: Epoch 7: accuracy 80.7%, loss 0.530551 (time 5.0s)\n",
      "2025-01-20 16:05:57,414 - INFO: Epoch 8: accuracy 81.7%, loss 0.512308 (time 5.1s)\n",
      "2025-01-20 16:06:02,855 - INFO: Epoch 9: accuracy 82.2%, loss 0.500578 (time 5.0s)\n",
      "2025-01-20 16:06:08,386 - INFO: Epoch 10: accuracy 82.3%, loss 0.492520 (time 5.1s)\n",
      "2025-01-20 16:06:08,387 - INFO: Finished 10 epochs for Test in 55.4s\n"
     ]
    }
   ],
   "source": [
    "dim_hidden = 512\n",
    "dim_out = 10\n",
    "loss_fn = torch.nn.CrossEntropyLoss()\n",
    "learning_rate = 0.05\n",
    "\n",
    "training_data = get_dataloader(batch_size=64, train=True, transform=training_zoom_out)\n",
    "testing_data = get_dataloader(batch_size=64, train=False)\n",
    "for inputs, targets in training_data:\n",
    "    _, pic_channels, pic_height, pic_width = inputs.shape\n",
    "    break\n",
    "\n",
    "set_seed(12345678)\n",
    "model = SimpleNetwork(pic_channels * pic_height * pic_width, dim_hidden, dim_out).to(TORCH_DEVICE)\n",
    "optim = Optim(model, loss_fn, training_data, testing_data)\n",
    "optim.log_epochs = 1\n",
    "record = optim.run(num_epochs=10, learning_rate=learning_rate, name=\"Test\")"
   ]
  },
  {
   "cell_type": "code",
   "execution_count": 10,
   "id": "fcfda3f7-8947-464e-8148-e17d43f00f56",
   "metadata": {},
   "outputs": [
    {
     "name": "stdout",
     "output_type": "stream",
     "text": [
      "Altering testing data changes accuracy 0.8226 -> 0.7582\n",
      "Altering testing data changes loss 0.4925200268151654 -> 0.6298230478338375\n"
     ]
    }
   ],
   "source": [
    "altered_testing_data = get_dataloader(batch_size=64, train=False, transform=zoom_out)\n",
    "altered = optim.test(altered_testing_data)\n",
    "regular = optim.test()\n",
    "\n",
    "print(f\"Altering testing data changes accuracy {regular[0]} -> {altered[0]}\")\n",
    "print(f\"Altering testing data changes loss {regular[1]} -> {altered[1]}\")"
   ]
  },
  {
   "cell_type": "code",
   "execution_count": null,
   "id": "dba5b96b-1ff7-4efc-89da-89aa9ffd1f59",
   "metadata": {},
   "outputs": [],
   "source": []
  }
 ],
 "metadata": {
  "kernelspec": {
   "display_name": "Pyproject Local",
   "language": "python",
   "name": "pyproject_local_kernel"
  },
  "language_info": {
   "codemirror_mode": {
    "name": "ipython",
    "version": 3
   },
   "file_extension": ".py",
   "mimetype": "text/x-python",
   "name": "python",
   "nbconvert_exporter": "python",
   "pygments_lexer": "ipython3",
   "version": "3.12.7"
  }
 },
 "nbformat": 4,
 "nbformat_minor": 5
}
